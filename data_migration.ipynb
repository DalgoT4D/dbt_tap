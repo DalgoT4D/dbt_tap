{
 "cells": [
  {
   "cell_type": "code",
   "execution_count": 9,
   "metadata": {},
   "outputs": [
    {
     "data": {
      "text/plain": [
       "True"
      ]
     },
     "execution_count": 9,
     "metadata": {},
     "output_type": "execute_result"
    }
   ],
   "source": [
    "from google.cloud import bigquery\n",
    "from google.oauth2 import service_account\n",
    "import requests\n",
    "import json\n",
    "from dotenv import load_dotenv\n",
    "import os\n",
    "\n",
    "load_dotenv()"
   ]
  },
  {
   "cell_type": "code",
   "execution_count": 10,
   "metadata": {},
   "outputs": [],
   "source": [
    "credentials = service_account.Credentials.from_service_account_file(\n",
    "    'creds.json',\n",
    "    scopes=[\"https://www.googleapis.com/auth/cloud-platform\"],\n",
    ")\n",
    "client = bigquery.Client(\n",
    "    credentials=credentials,\n",
    "    project=credentials.project_id,\n",
    ")"
   ]
  },
  {
   "cell_type": "code",
   "execution_count": 11,
   "metadata": {},
   "outputs": [],
   "source": [
    "query = client.query(\"\"\"\n",
    "   SELECT *\n",
    "   FROM ddp_intermediate.students_activities_agg\n",
    "\"\"\")\n",
    "bigquery_results = query.result()"
   ]
  },
  {
   "cell_type": "code",
   "execution_count": 13,
   "metadata": {},
   "outputs": [],
   "source": [
    "# API_SECRET = 'ishan'\n",
    "URI = 'https://staging-tap-lms.openbrackets.in/'\n",
    "# authenticate to frappe as admin\n",
    "# headers = {\"Authorization\": f\"token api_key:{API_SECRET}\"}\n",
    "payload = {'usr': os.getenv('FRAPPE_ADMIN_USERNAME'), 'pwd': os.getenv('FRAPPE_ADMIN_PASSWORD')}\n",
    "res = requests.post(f\"{URI}/api/method/login\", data=payload)\n",
    "cookies = res.cookies\n",
    "# do subsequent request with this cookies\n",
    "cookies_dict = cookies.get_dict()"
   ]
  },
  {
   "cell_type": "code",
   "execution_count": 14,
   "metadata": {},
   "outputs": [],
   "source": [
    "res = requests.get(f\"{URI}/api/resource/Student\", cookies=cookies_dict, params={'fields': json.dumps(['name', 'phone'])})\n",
    "students = res.json()['data']"
   ]
  },
  {
   "cell_type": "code",
   "execution_count": 15,
   "metadata": {},
   "outputs": [
    {
     "data": {
      "text/plain": [
       "[{'name': 'fa5b0e3689', 'phone': '917666491404'},\n",
       " {'name': 'c1fb9b684b', 'phone': '8551065721'},\n",
       " {'name': '8790c880a1', 'phone': '7058947337'},\n",
       " {'name': '7aa716c6e7', 'phone': '9420081117'},\n",
       " {'name': 'b69e588cda', 'phone': '8624097377'},\n",
       " {'name': '40b00cdabe', 'phone': '8485811763'},\n",
       " {'name': '04eb27b167', 'phone': '9013183473'},\n",
       " {'name': '12b76bdf7f', 'phone': '9911815753'},\n",
       " {'name': '8008e29f4d', 'phone': '9628705100'},\n",
       " {'name': 'a68a082f65', 'phone': '8587017713'},\n",
       " {'name': 'a80852471b', 'phone': '9871218118'},\n",
       " {'name': '170ecedbd0', 'phone': '8586948631'},\n",
       " {'name': '08fea7dac0', 'phone': '8375840766'},\n",
       " {'name': '298ec22e79', 'phone': '8742969921'},\n",
       " {'name': '31aa127580', 'phone': '9310954922'},\n",
       " {'name': '91baf1306a', 'phone': '7331171079'},\n",
       " {'name': 'a606a22048', 'phone': '9618518944'},\n",
       " {'name': 'a09d0b50b1', 'phone': '9515650980'},\n",
       " {'name': '8c739b38e8', 'phone': '7093723697'},\n",
       " {'name': '11fe1d13a9', 'phone': '7989713170'}]"
      ]
     },
     "execution_count": 15,
     "metadata": {},
     "output_type": "execute_result"
    }
   ],
   "source": [
    "students"
   ]
  },
  {
   "cell_type": "code",
   "execution_count": 16,
   "metadata": {},
   "outputs": [],
   "source": [
    "prepare_data_to_put = []\n",
    "for row in bigquery_results:\n",
    "    d = {}\n",
    "    d['access_rate'] = row.access_rate\n",
    "    d['submission_rate'] = row.submission_rate\n",
    "\n",
    "    for student in students:\n",
    "        if student['phone'] == row.phone:\n",
    "            d['name'] = student['name']\n",
    "            prepare_data_to_put.append(d)\n",
    "            break"
   ]
  },
  {
   "cell_type": "code",
   "execution_count": 43,
   "metadata": {},
   "outputs": [],
   "source": [
    "# upload metrics to frappe\n",
    "\n",
    "for data in prepare_data_to_put:\n",
    "    res = requests.put(f\"{URI}/api/resource/Student/{data['name']}\", \\\n",
    "                        cookies=cookies_dict, \\\n",
    "                        data={\"submission_rate\": data['submission_rate'], \"access_rate\": data['access_rate']})\n",
    "    if(res.status_code != 200):\n",
    "        print('not ok')\n",
    "        break"
   ]
  },
  {
   "cell_type": "code",
   "execution_count": 17,
   "metadata": {},
   "outputs": [],
   "source": [
    "client.close()"
   ]
  }
 ],
 "metadata": {
  "kernelspec": {
   "display_name": "venv",
   "language": "python",
   "name": "python3"
  },
  "language_info": {
   "codemirror_mode": {
    "name": "ipython",
    "version": 3
   },
   "file_extension": ".py",
   "mimetype": "text/x-python",
   "name": "python",
   "nbconvert_exporter": "python",
   "pygments_lexer": "ipython3",
   "version": "3.10.9"
  },
  "orig_nbformat": 4
 },
 "nbformat": 4,
 "nbformat_minor": 2
}
